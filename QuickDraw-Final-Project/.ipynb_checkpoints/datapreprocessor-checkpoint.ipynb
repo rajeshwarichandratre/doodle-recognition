{
 "cells": [
  {
   "cell_type": "code",
   "execution_count": 1,
   "metadata": {
    "collapsed": false,
    "deletable": true,
    "editable": true
   },
   "outputs": [
    {
     "name": "stderr",
     "output_type": "stream",
     "text": [
      "\r",
      "0it [00:00, ?it/s]"
     ]
    },
    {
     "name": "stdout",
     "output_type": "stream",
     "text": [
      "----Model will be trained to predict following categories----\n",
      "['airplane', 'book', 'cake', 'candle', 'fan', 'fork', 'hand', 'hat', 'house', 'lollipop']\n"
     ]
    },
    {
     "name": "stderr",
     "output_type": "stream",
     "text": [
      "10it [00:26,  2.53s/it]\n",
      "100%|██████████| 10/10 [06:00<00:00, 36.19s/it]\n"
     ]
    }
   ],
   "source": [
    "#This file generates shuffled csv under shuffled-csv\n",
    "\n",
    "#!/usr/bin/env python3\n",
    "# -*- coding: utf-8 -*-\n",
    "\n",
    "# =============================================================================\n",
    "# Data preprocessing\n",
    "# Load Libraries\n",
    "# =============================================================================\n",
    "\n",
    "import os\n",
    "from tqdm import tqdm #Progress Meter\n",
    "import pandas as pd\n",
    "import numpy as np\n",
    "\n",
    "# =============================================================================\n",
    "# Declare variables\n",
    "# =============================================================================\n",
    "\n",
    "SHUFFLED_DIR = 'data/shuffled_data/'\n",
    "DRAWING = 'drawing'\n",
    "TRAIN_DIR = 'data/train_simplified/'\n",
    "TS = 'timestamp'\n",
    "CSV = '.csv'\n",
    "\n",
    "class ShuffledDataGenerator:\n",
    "    def __init__(self,path,shuffled,number_of_csvs):\n",
    "        self.input_train_path = path\n",
    "        self.csvs = number_of_csvs\n",
    "        self.input_shuffled_path = shuffled\n",
    "        \n",
    "    def list_doodles_to_train(self):\n",
    "        files = os.listdir(TRAIN_DIR)\n",
    "        if '.DS_Store' in files:\n",
    "            files.remove('.DS_Store')\n",
    "        return sorted([(fil.split('.')[0]) for fil in files], key = str.lower)\n",
    "# =============================================================================\n",
    "#     First pick a category, take a chunk from that and create 10 csvs with that chunk.\n",
    "#     Do this for every category by appending chunk to CSV and later shuffle that csv data\n",
    "# =============================================================================\n",
    "    \n",
    "    def create_shuffled_files(self, categories):\n",
    "        for y, category in tqdm(enumerate(categories)):\n",
    "            df = pd.read_csv(os.path.join(self.input_train_path, category + CSV))\n",
    "            df['y'] = y\n",
    "            df['temp'] = (df.key_id // 10 ** 7) % self.csvs\n",
    "            for i in range(self.csvs):\n",
    "                create_file = self.input_shuffled_path + 'chunk{}.csv'.format(i)\n",
    "                chunk = df[df['temp']==i]\n",
    "                chunk = chunk.drop(['key_id'],axis=1)\n",
    "                if y == 0:\n",
    "                    chunk.to_csv(create_file, index=False)\n",
    "                else:\n",
    "                    chunk.to_csv(create_file, mode='a', header=False, index=False)\n",
    "        for f in tqdm(range(self.csvs)):\n",
    "            filename = self.input_shuffled_path + 'chunk{}.csv'.format(f)\n",
    "            if os.path.exists(filename):\n",
    "                df = pd.read_csv(filename)\n",
    "                df['any'] = np.random.rand(len(df))\n",
    "                df= df.sort_values(by='any').drop('any',axis=1)\n",
    "                df.to_csv(filename + '.gz', compression='gzip', index=False)\n",
    "                os.remove(filename)\n",
    "\n",
    "if __name__ == \"__main__\":\n",
    "    data_generator = ShuffledDataGenerator(TRAIN_DIR, SHUFFLED_DIR, 10)\n",
    "    categories = data_generator.list_doodles_to_train()\n",
    "    print('----Model will be trained to predict following categories----')\n",
    "    print(categories)\n",
    "    data_generator.create_shuffled_files(categories)\n",
    "    \n"
   ]
  },
  {
   "cell_type": "code",
   "execution_count": null,
   "metadata": {
    "collapsed": true,
    "deletable": true,
    "editable": true
   },
   "outputs": [],
   "source": []
  },
  {
   "cell_type": "code",
   "execution_count": null,
   "metadata": {
    "collapsed": true,
    "deletable": true,
    "editable": true
   },
   "outputs": [],
   "source": []
  },
  {
   "cell_type": "code",
   "execution_count": null,
   "metadata": {
    "collapsed": true,
    "deletable": true,
    "editable": true
   },
   "outputs": [],
   "source": []
  },
  {
   "cell_type": "code",
   "execution_count": null,
   "metadata": {
    "collapsed": true,
    "deletable": true,
    "editable": true
   },
   "outputs": [],
   "source": []
  },
  {
   "cell_type": "code",
   "execution_count": 11,
   "metadata": {
    "collapsed": true,
    "deletable": true,
    "editable": true
   },
   "outputs": [],
   "source": []
  },
  {
   "cell_type": "code",
   "execution_count": null,
   "metadata": {
    "collapsed": true,
    "deletable": true,
    "editable": true
   },
   "outputs": [],
   "source": []
  },
  {
   "cell_type": "code",
   "execution_count": null,
   "metadata": {
    "collapsed": true,
    "deletable": true,
    "editable": true
   },
   "outputs": [],
   "source": []
  }
 ],
 "metadata": {
  "kernelspec": {
   "display_name": "Python 3",
   "language": "python",
   "name": "python3"
  },
  "language_info": {
   "codemirror_mode": {
    "name": "ipython",
    "version": 3
   },
   "file_extension": ".py",
   "mimetype": "text/x-python",
   "name": "python",
   "nbconvert_exporter": "python",
   "pygments_lexer": "ipython3",
   "version": "3.5.2"
  }
 },
 "nbformat": 4,
 "nbformat_minor": 2
}
